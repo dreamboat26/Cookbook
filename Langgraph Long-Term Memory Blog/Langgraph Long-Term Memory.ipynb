{
 "cells": [
  {
   "cell_type": "code",
   "execution_count": null,
   "metadata": {},
   "outputs": [],
   "source": [
    "!pip install langchain_openai langchain_core langgraph "
   ]
  },
  {
   "cell_type": "code",
   "execution_count": 1,
   "metadata": {},
   "outputs": [],
   "source": [
    "import uuid\n",
    "from typing import Annotated\n",
    "# from langchain_core.messages import AIMessage\n",
    "from langchain_openai import ChatOpenAI\n",
    "from langchain_core.runnables import RunnableConfig\n",
    "from langgraph.graph import StateGraph, MessagesState, START, END\n",
    "from langgraph.store.base import BaseStore\n",
    "from typing import Annotated, Optional\n",
    "from langchain_core.tools import InjectedToolArg, tool\n",
    "\n",
    "from langgraph.store.memory import InMemoryStore\n",
    "from langgraph.checkpoint.memory import MemorySaver\n",
    "in_memory_store = InMemoryStore()"
   ]
  },
  {
   "cell_type": "code",
   "execution_count": 2,
   "metadata": {},
   "outputs": [],
   "source": [
    "\n",
    "@tool\n",
    "def upsert_memory(\n",
    "    content: str,\n",
    "    context: str,\n",
    "    memory_id: Optional[str] = None,\n",
    "    *,\n",
    "    config: Annotated[RunnableConfig, InjectedToolArg],\n",
    "    store: Annotated[BaseStore, InjectedToolArg],\n",
    "):\n",
    "    \"\"\"Upsert a memory in the database.\n",
    "\n",
    "    If a memory conflicts with an existing one, then just UPDATE the\n",
    "    existing one by passing in memory_id - don't create two memories\n",
    "    that are the same. If the user corrects a memory, UPDATE it.\n",
    "\n",
    "    Args:\n",
    "        content: The main content of the memory. For example:\n",
    "            \"User expressed interest in learning about French.\"\n",
    "        context: Additional context for the memory. For example:\n",
    "            \"This was mentioned while discussing career options in Europe.\"\n",
    "        memory_id: ONLY PROVIDE IF UPDATING AN EXISTING MEMORY.\n",
    "        The memory to overwrite.\n",
    "    \"\"\"\n",
    "    mem_id = memory_id or uuid.uuid4()\n",
    "    user_id = config[\"configurable\"][\"user_id\"]\n",
    "    store.put(\n",
    "        (\"memories\", user_id),\n",
    "        key=str(mem_id),\n",
    "        value={\"content\": content, \"context\": context},\n",
    "    )\n",
    "    return f\"Stored memory {mem_id}\""
   ]
  },
  {
   "cell_type": "code",
   "execution_count": 4,
   "metadata": {},
   "outputs": [],
   "source": [
    "model = ChatOpenAI(model=\"gpt-4o\")\n",
    "\n",
    "def store_memory(state: MessagesState, config: RunnableConfig, store: BaseStore):\n",
    "    # Extract tool calls from the last message\n",
    "    tool_calls = state[\"messages\"][-1].tool_calls\n",
    "    saved_memories=[]\n",
    "    for tc in tool_calls:\n",
    "        content = tc['args']['content']\n",
    "        context = tc['args']['context']\n",
    "        saved_memories.append([\n",
    "            upsert_memory.invoke({'content': content, 'context': context, 'config':config, 'store':store})  \n",
    "        ])\n",
    "    # print(\"saved_memories: \", saved_memories)\n",
    "    # Format the results of memory storage operations\n",
    "    # This provides confirmation to the model that the actions it took were completed\n",
    "    results = [\n",
    "        {\n",
    "            \"role\": \"tool\",\n",
    "            \"content\": mem[0],\n",
    "            \"tool_call_id\": tc[\"id\"],\n",
    "        }\n",
    "        for tc, mem in zip(tool_calls, saved_memories)\n",
    "    ]\n",
    "    # print(results)\n",
    "    return {\"messages\": results[0]}\n",
    "\n",
    "def route_message(state: MessagesState):\n",
    "    \"\"\"Determine the next step based on the presence of tool calls.\"\"\"\n",
    "    msg = state[\"messages\"][-1]\n",
    "    if msg.tool_calls:\n",
    "        # If there are tool calls, we need to store memories\n",
    "        return \"store_memory\"\n",
    "    # Otherwise, finish; user can send the next message\n",
    "    return END\n",
    "\n",
    "def call_model(state: MessagesState, config: RunnableConfig, *, store: BaseStore):\n",
    "    user_id = config[\"configurable\"][\"user_id\"]\n",
    "    namespace = (\"memories\", user_id)\n",
    "    memories = store.search(namespace)\n",
    "    info = \"\\n\".join(f\"[{mem.key}]: {mem.value}\" for mem in memories)\n",
    "    if info:\n",
    "        info = f\"\"\"\n",
    "    <memories>\n",
    "    {info}\n",
    "    </memories>\"\"\"\n",
    "    \n",
    "    system_msg = f'''You are a helpful assistant talking to the user. You must decide whether to store information as memory from list of messages and then answer the user query or directly answer the user query\n",
    "        User context info: {info}'''\n",
    "    print(\"system_msg:\", system_msg)\n",
    "    # Store new memories if the user asks the model to remember\n",
    "    last_message = state[\"messages\"][-1]\n",
    "    # if \"remember\" in last_message.content.lower():\n",
    "    #     memory = \"User name is Bob\"\n",
    "    #     store.put(namespace, str(uuid.uuid4()), {\"data\": memory})\n",
    "    # print( [{\"type\": \"system\", \"content\": system_msg}] + state[\"messages\"])\n",
    "    response = model.bind_tools([upsert_memory]).invoke(\n",
    "        [{\"type\": \"system\", \"content\": system_msg}] + state[\"messages\"]\n",
    "    )\n",
    "    return {\"messages\": response}\n",
    "\n",
    "\n",
    "builder = StateGraph(MessagesState)\n",
    "builder.add_node(\"call_model\", call_model)\n",
    "builder.add_edge(START, \"call_model\")\n",
    "\n",
    "builder.add_node(store_memory)\n",
    "\n",
    "builder.add_conditional_edges(\"call_model\", route_message, [\"store_memory\", END])\n",
    "\n",
    "builder.add_edge(\"store_memory\", \"call_model\")\n",
    "\n",
    "graph = builder.compile(store=in_memory_store)"
   ]
  },
  {
   "cell_type": "code",
   "execution_count": 5,
   "metadata": {},
   "outputs": [
    {
     "name": "stdout",
     "output_type": "stream",
     "text": [
      "================================\u001b[1m Human Message \u001b[0m=================================\n",
      "\n",
      "Hi! Remember: my name is Bob\n",
      "system_msg: You are a helpful assistant talking to the user. You must decide whether to store information as memory from list of messages and then answer the user query or directly answer the user query\n",
      "        User context info: \n",
      "[{'type': 'system', 'content': 'You are a helpful assistant talking to the user. You must decide whether to store information as memory from list of messages and then answer the user query or directly answer the user query\\n        User context info: '}, HumanMessage(content='Hi! Remember: my name is Bob', additional_kwargs={}, response_metadata={}, id='7ce923c3-1b4c-4487-891f-40273067f60b')]\n",
      "==================================\u001b[1m Ai Message \u001b[0m==================================\n",
      "Tool Calls:\n",
      "  upsert_memory (call_PrjfPMYG7sYUlJJE6gdMQSWQ)\n",
      " Call ID: call_PrjfPMYG7sYUlJJE6gdMQSWQ\n",
      "  Args:\n",
      "    content: User's name is Bob.\n",
      "    context: User mentioned their name.\n",
      "saved_memories:  [['Stored memory e424aeb4-7cb0-4c1f-90ed-efb7da4333c7']]\n",
      "[{'role': 'tool', 'content': 'Stored memory e424aeb4-7cb0-4c1f-90ed-efb7da4333c7', 'tool_call_id': 'call_PrjfPMYG7sYUlJJE6gdMQSWQ'}]\n",
      "=================================\u001b[1m Tool Message \u001b[0m=================================\n",
      "\n",
      "Stored memory e424aeb4-7cb0-4c1f-90ed-efb7da4333c7\n",
      "system_msg: You are a helpful assistant talking to the user. You must decide whether to store information as memory from list of messages and then answer the user query or directly answer the user query\n",
      "        User context info: \n",
      "    <memories>\n",
      "    [e424aeb4-7cb0-4c1f-90ed-efb7da4333c7]: {'content': \"User's name is Bob.\", 'context': 'User mentioned their name.'}\n",
      "    </memories>\n",
      "[{'type': 'system', 'content': 'You are a helpful assistant talking to the user. You must decide whether to store information as memory from list of messages and then answer the user query or directly answer the user query\\n        User context info: \\n    <memories>\\n    [e424aeb4-7cb0-4c1f-90ed-efb7da4333c7]: {\\'content\\': \"User\\'s name is Bob.\", \\'context\\': \\'User mentioned their name.\\'}\\n    </memories>'}, HumanMessage(content='Hi! Remember: my name is Bob', additional_kwargs={}, response_metadata={}, id='7ce923c3-1b4c-4487-891f-40273067f60b'), AIMessage(content='', additional_kwargs={'tool_calls': [{'id': 'call_PrjfPMYG7sYUlJJE6gdMQSWQ', 'function': {'arguments': '{\"content\":\"User\\'s name is Bob.\",\"context\":\"User mentioned their name.\"}', 'name': 'upsert_memory'}, 'type': 'function'}], 'refusal': None}, response_metadata={'token_usage': {'completion_tokens': 27, 'prompt_tokens': 225, 'total_tokens': 252, 'completion_tokens_details': {'audio_tokens': None, 'reasoning_tokens': 0}, 'prompt_tokens_details': {'audio_tokens': None, 'cached_tokens': 0}}, 'model_name': 'gpt-4o-2024-08-06', 'system_fingerprint': 'fp_45c6de4934', 'finish_reason': 'tool_calls', 'logprobs': None}, id='run-a6f0ba23-16b2-4611-ba8f-01aada6a556c-0', tool_calls=[{'name': 'upsert_memory', 'args': {'content': \"User's name is Bob.\", 'context': 'User mentioned their name.'}, 'id': 'call_PrjfPMYG7sYUlJJE6gdMQSWQ', 'type': 'tool_call'}], usage_metadata={'input_tokens': 225, 'output_tokens': 27, 'total_tokens': 252}), ToolMessage(content='Stored memory e424aeb4-7cb0-4c1f-90ed-efb7da4333c7', id='6dab31c8-1993-4640-8bab-ebe025acc1a7', tool_call_id='call_PrjfPMYG7sYUlJJE6gdMQSWQ')]\n",
      "==================================\u001b[1m Ai Message \u001b[0m==================================\n",
      "\n",
      "Hi Bob! I've got your name remembered. How can I assist you today?\n"
     ]
    }
   ],
   "source": [
    "config = {\"configurable\": {\"thread_id\": \"1\", \"user_id\": \"1\"}}\n",
    "input_message = {\"type\": \"user\", \"content\": \"Hi! My name is Bob. I love keep updated on Latest Tech\"}\n",
    "for chunk in graph.stream({\"messages\": [input_message]}, config, stream_mode=\"values\"):\n",
    "    chunk[\"messages\"][-1].pretty_print()"
   ]
  },
  {
   "cell_type": "code",
   "execution_count": 6,
   "metadata": {},
   "outputs": [
    {
     "name": "stdout",
     "output_type": "stream",
     "text": [
      "================================\u001b[1m Human Message \u001b[0m=================================\n",
      "\n",
      "What do you know about me\n",
      "system_msg: You are a helpful assistant talking to the user. You must decide whether to store information as memory from list of messages and then answer the user query or directly answer the user query\n",
      "        User context info: \n",
      "    <memories>\n",
      "    [e424aeb4-7cb0-4c1f-90ed-efb7da4333c7]: {'content': \"User's name is Bob.\", 'context': 'User mentioned their name.'}\n",
      "    </memories>\n",
      "[{'type': 'system', 'content': 'You are a helpful assistant talking to the user. You must decide whether to store information as memory from list of messages and then answer the user query or directly answer the user query\\n        User context info: \\n    <memories>\\n    [e424aeb4-7cb0-4c1f-90ed-efb7da4333c7]: {\\'content\\': \"User\\'s name is Bob.\", \\'context\\': \\'User mentioned their name.\\'}\\n    </memories>'}, HumanMessage(content='What do you know about me', additional_kwargs={}, response_metadata={}, id='21fe0c1b-2ea9-427f-ae18-3c8ef8b40c31')]\n",
      "==================================\u001b[1m Ai Message \u001b[0m==================================\n",
      "\n",
      "You mentioned that your name is Bob. Is there anything else you'd like to share or update?\n"
     ]
    }
   ],
   "source": [
    "config = {\"configurable\": {\"thread_id\": \"1\", \"user_id\": \"1\"}}\n",
    "input_message = {\"type\": \"user\", \"content\": \"What do you know about me\"}\n",
    "for chunk in graph.stream({\"messages\": [input_message]}, config, stream_mode=\"values\"):\n",
    "    chunk[\"messages\"][-1].pretty_print()"
   ]
  },
  {
   "cell_type": "code",
   "execution_count": 7,
   "metadata": {},
   "outputs": [
    {
     "name": "stdout",
     "output_type": "stream",
     "text": [
      "[e424aeb4-7cb0-4c1f-90ed-efb7da4333c7]: {'content': \"User's name is Bob.\", 'context': 'User mentioned their name.'}\n"
     ]
    }
   ],
   "source": [
    "namespace = (\"memories\", \"1\")\n",
    "memories = in_memory_store.search(namespace)\n",
    "info = \"\\n\".join(f\"[{mem.key}]: {mem.value}\" for mem in memories)\n",
    "print(info)"
   ]
  },
  {
   "cell_type": "code",
   "execution_count": 8,
   "metadata": {},
   "outputs": [
    {
     "data": {
      "image/jpeg": "[encoded data removed]",
      "text/plain": [
       "<IPython.core.display.Image object>"
      ]
     },
     "metadata": {},
     "output_type": "display_data"
    }
   ],
   "source": [
    "from IPython.display import Image, display\n",
    "try:\n",
    "    display(Image(graph.get_graph().draw_mermaid_png()))\n",
    "except Exception as e:\n",
    "    print(e)"
   ]
  },
  {
   "cell_type": "code",
   "execution_count": null,
   "metadata": {},
   "outputs": [],
   "source": []
  }
 ],
 "metadata": {
  "kernelspec": {
   "display_name": "futuresmart",
   "language": "python",
   "name": "python3"
  },
  "language_info": {
   "codemirror_mode": {
    "name": "ipython",
    "version": 3
   },
   "file_extension": ".py",
   "mimetype": "text/x-python",
   "name": "python",
   "nbconvert_exporter": "python",
   "pygments_lexer": "ipython3",
   "version": "3.11.4"
  }
 },
 "nbformat": 4,
 "nbformat_minor": 2
}
