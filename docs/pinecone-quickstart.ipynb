{
  "cells": [
    {
      "cell_type": "markdown",
      "metadata": {
        "id": "8KNEuM_G83vi"
      },
      "source": [
        "[![Open In Colab](https://colab.research.google.com/assets/colab-badge.svg)](https://colab.research.google.com/github/pinecone-io/examples/blob/master/docs/pinecone-quickstart.ipynb) [![Open nbviewer](https://raw.githubusercontent.com/pinecone-io/examples/master/assets/nbviewer-shield.svg)](https://nbviewer.org/github/pinecone-io/examples/blob/master/docs/pinecone-quickstart.ipynb)\n",
        "\n",
        "# Pinecone quickstart\n",
        "\n",
        "Pinecone provides long-term memory for high-performance AI applications. It's a managed, cloud-native vector database with a streamlined API and no infrastructure hassles. Pinecone serves fresh, relevant query results with low latency at the scale of billions of vectors.\n",
        "\n",
        "This notebook shows you how to set up a Pinecone vector database in minutes using Python. To run through the process using TypeScript, Java, or curl instead, see the [Quickstart](https://docs.pinecone.io/guides/get-started/quickstart) in the Pinecone docs."
      ]
    },
    {
      "cell_type": "markdown",
      "metadata": {
        "id": "mjJUDk6xAA_r"
      },
      "source": [
        "## Install dependencies\n",
        "\n",
        "Pinecone exposes a simple [REST API](https://docs.pinecone.io/reference/api/introduction) for interacting with its vector database. You can use the API directly, or you can use one of the official [Pinecone clients](https://docs.pinecone.io/reference/pinecone-clients).\n",
        "\n",
        "For this notebook, install the Python client and a library that makes it easy to sign up with Pinecone:"
      ]
    },
    {
      "cell_type": "code",
      "execution_count": 5,
      "metadata": {
        "id": "4SudLike98WL"
      },
      "outputs": [],
      "source": [
        "!pip install -qU \\\n",
        "    pinecone \\\n",
        "    pinecone-notebooks"
      ]
    },
    {
      "cell_type": "markdown",
      "metadata": {
        "id": "WoDXUiIkD1U7"
      },
      "source": [
        "## Get an API key\n",
        "\n",
        "You need an API key to make calls to your Pinecone project.\n",
        "\n",
        "Use the widget below to generate a key. If you don't have a Pinecone account, the widget will sign you up for the free Starter plan."
      ]
    },
    {
      "cell_type": "code",
      "execution_count": null,
      "metadata": {
        "id": "89S8G8oP61-t"
      },
      "outputs": [],
      "source": [
        "import os\n",
        "\n",
        "if not os.environ.get(\"PINECONE_API_KEY\"):\n",
        "    from pinecone_notebooks.colab import Authenticate\n",
        "    Authenticate()"
      ]
    },
    {
      "cell_type": "markdown",
      "source": [
        "## Initialize a client\n",
        "\n",
        "Use the generated API key to intialize a client connection to Pinecone:"
      ],
      "metadata": {
        "id": "sbJFp5DO5ryT"
      }
    },
    {
      "cell_type": "code",
      "execution_count": 7,
      "metadata": {
        "id": "e9rr_u6ZIvZ-"
      },
      "outputs": [],
      "source": [
        "from pinecone import Pinecone, ServerlessSpec\n",
        "\n",
        "api_key = os.environ.get(\"PINECONE_API_KEY\")\n",
        "\n",
        "pc = Pinecone(api_key=api_key)"
      ]
    },
    {
      "cell_type": "markdown",
      "source": [
        "## Generate vectors\n",
        "\n",
        "A [vector embedding](https://www.pinecone.io/learn/vector-embeddings/) is a numerical representation of data that enables similarity-based search in vector databases like Pinecone. To convert data into this format, you use an embedding model.\n",
        "\n",
        "For this quickstart, use the [`multilingual-e5-large`](https://docs.pinecone.io/models/multilingual-e5-large) embedding model hosted by Pinecone to [create vector embeddings](https://docs.pinecone.io/guides/inference/generate-embeddings) for sentences related to the word \"apple\". Note that some sentences are about the tech company, while others are about the fruit.\n"
      ],
      "metadata": {
        "id": "bN9Rl7GP258C"
      }
    },
    {
      "cell_type": "code",
      "source": [
        "# Define a sample dataset where each item has a unique ID and piece of text\n",
        "data = [\n",
        "    {\"id\": \"vec1\", \"text\": \"Apple is a popular fruit known for its sweetness and crisp texture.\"},\n",
        "    {\"id\": \"vec2\", \"text\": \"The tech company Apple is known for its innovative products like the iPhone.\"},\n",
        "    {\"id\": \"vec3\", \"text\": \"Many people enjoy eating apples as a healthy snack.\"},\n",
        "    {\"id\": \"vec4\", \"text\": \"Apple Inc. has revolutionized the tech industry with its sleek designs and user-friendly interfaces.\"},\n",
        "    {\"id\": \"vec5\", \"text\": \"An apple a day keeps the doctor away, as the saying goes.\"},\n",
        "    {\"id\": \"vec6\", \"text\": \"Apple Computer Company was founded on April 1, 1976, by Steve Jobs, Steve Wozniak, and Ronald Wayne as a partnership.\"}\n",
        "]\n",
        "\n",
        "# Convert the text into numerical vectors that Pinecone can index\n",
        "embeddings = pc.inference.embed(\n",
        "    model=\"multilingual-e5-large\",\n",
        "    inputs=[d['text'] for d in data],\n",
        "    parameters={\"input_type\": \"passage\", \"truncate\": \"END\"}\n",
        ")\n",
        "\n",
        "print(embeddings)\n"
      ],
      "metadata": {
        "id": "ZIclo2UK3NFE"
      },
      "execution_count": null,
      "outputs": []
    },
    {
      "cell_type": "markdown",
      "metadata": {
        "id": "VpgIIsLlJGFf"
      },
      "source": [
        "## Create an index\n",
        "\n",
        "In Pinecone, you store data in an [index](https://docs.pinecone.io/guides/indexes/understanding-indexes).\n",
        "\n",
        "Create a serverless index that matches the dimension (`1024`) and similarity metric (`cosine`) of the `multilingual-e5-large` model you used in the previous step, and choose a [cloud and region](https://docs.pinecone.io/guides/indexes/understanding-indexes#cloud-regions) for hosting the index:"
      ]
    },
    {
      "cell_type": "code",
      "execution_count": 9,
      "metadata": {
        "id": "Buo2K1h8O_fN"
      },
      "outputs": [],
      "source": [
        "index_name = \"docs-quickstart-notebook\""
      ]
    },
    {
      "cell_type": "code",
      "execution_count": 10,
      "metadata": {
        "id": "MaqbcsI4I1gU"
      },
      "outputs": [],
      "source": [
        "import time\n",
        "\n",
        "if not pc.has_index(index_name):\n",
        "    pc.create_index(\n",
        "        name=index_name,\n",
        "        dimension=1024,\n",
        "        metric=\"cosine\",\n",
        "        spec=ServerlessSpec(\n",
        "            cloud='aws',\n",
        "            region='us-east-1'\n",
        "        )\n",
        "    )\n",
        "\n",
        "# Wait for the index to be ready\n",
        "while not pc.describe_index(index_name).status['ready']:\n",
        "    time.sleep(1)"
      ]
    },
    {
      "cell_type": "markdown",
      "metadata": {
        "id": "tNAgla6IKWie"
      },
      "source": [
        "## Upsert vectors\n",
        "\n",
        "Target your index and use the [`upsert`](https://docs.pinecone.io/guides/data/upsert-data) operation to load your vector embeddings into a new namespace.\n",
        "\n",
        "**Note:** [Namespaces](https://docs.pinecone.io/guides/get-started/key-features#namespaces) let you partition records within an index and are essential for [implementing multitenancy](https://docs.pinecone.io/guides/get-started/implement-multitenancy) when you need to isolate the data of each customer/user.\n"
      ]
    },
    {
      "cell_type": "code",
      "execution_count": null,
      "metadata": {
        "id": "Ri6RX7FEiV4C"
      },
      "outputs": [],
      "source": [
        "# Target the index where you'll store the vector embeddings\n",
        "index = pc.Index(index_name)\n",
        "\n",
        "# Prepare the records for upsert\n",
        "# Each contains an 'id', the embedding 'values', and the original text as 'metadata'\n",
        "records = []\n",
        "for d, e in zip(data, embeddings):\n",
        "    records.append({\n",
        "        \"id\": d['id'],\n",
        "        \"values\": e['values'],\n",
        "        \"metadata\": {'text': d['text']}\n",
        "    })\n",
        "\n",
        "# Upsert the records into the index\n",
        "index.upsert(\n",
        "    vectors=records,\n",
        "    namespace=\"example-namespace\"\n",
        ")"
      ]
    },
    {
      "cell_type": "markdown",
      "metadata": {
        "id": "fqVA4OrlidX2"
      },
      "source": [
        "**Note:** To load large amounts of data, [import from object storage](https://docs.pinecone.io/guides/data/understanding-imports) or [upsert in large batches](https://docs.pinecone.io/guides/data/upsert-data#upsert-records-in-batches)."
      ]
    },
    {
      "cell_type": "markdown",
      "metadata": {
        "id": "AsVqrR2YipPM"
      },
      "source": [
        "## Check the index\n",
        "\n",
        "Pinecone is eventually consistent, so there can be a delay before your upserted vectors are available to query. Use the `describe_index_stats` operation to check if the current vector count matches the number of vectors you upserted:"
      ]
    },
    {
      "cell_type": "code",
      "execution_count": null,
      "metadata": {
        "id": "ANfVNxzDivEY"
      },
      "outputs": [],
      "source": [
        "time.sleep(10)  # Wait for the upserted vectors to be indexed\n",
        "\n",
        "print(index.describe_index_stats())"
      ]
    },
    {
      "cell_type": "markdown",
      "metadata": {
        "id": "6cNHN6_xjYm-"
      },
      "source": [
        "## Run a similarity search\n",
        "\n",
        "With data in your index, let's say you now want to search for information about \"Apple\" the tech company, not \"apple\" the fruit.\n",
        "\n",
        "Use the the `multilingual-e5-large` model to convert your query into a vector embedding, and then use the [`query`](https://docs.pinecone.io/guides/data/query-data) operation to search for the three vectors in the index that are most semantically similar to the query vector:"
      ]
    },
    {
      "cell_type": "code",
      "execution_count": null,
      "metadata": {
        "id": "RyP4EQX8jcLn"
      },
      "outputs": [],
      "source": [
        "# Define your query\n",
        "query = \"Tell me about the tech company known as Apple.\"\n",
        "\n",
        "# Convert the query into a numerical vector that Pinecone can search with\n",
        "query_embedding = pc.inference.embed(\n",
        "    model=\"multilingual-e5-large\",\n",
        "    inputs=[query],\n",
        "    parameters={\n",
        "        \"input_type\": \"query\"\n",
        "    }\n",
        ")\n",
        "\n",
        "# Search the index for the three most similar vectors\n",
        "results = index.query(\n",
        "    namespace=\"example-namespace\",\n",
        "    vector=query_embedding[0].values,\n",
        "    top_k=3,\n",
        "    include_values=False,\n",
        "    include_metadata=True\n",
        ")\n",
        "\n",
        "print(results)"
      ]
    },
    {
      "cell_type": "markdown",
      "metadata": {
        "id": "9jAJDjSAjsvA"
      },
      "source": [
        "Notice that the response includes only sentences about the tech company, not the fruit."
      ]
    },
    {
      "cell_type": "markdown",
      "metadata": {
        "id": "DavgcphWjwWw"
      },
      "source": [
        "## Clean up\n",
        "\n",
        "When you no longer need the `docs-quickstart-notebook` index, use the [`delete_index`](https://docs.pinecone.io/reference/api/control-plane/delete_index) operation to delete it:"
      ]
    },
    {
      "cell_type": "code",
      "execution_count": 15,
      "metadata": {
        "id": "1iHV2Y0ujy0y"
      },
      "outputs": [],
      "source": [
        "pc.delete_index(index_name)"
      ]
    },
    {
      "cell_type": "markdown",
      "metadata": {
        "id": "mjMxELwjkBDj"
      },
      "source": [
        "After you delete an index, you cannot use it again or recover it."
      ]
    }
  ],
  "metadata": {
    "colab": {
      "provenance": []
    },
    "kernelspec": {
      "display_name": "Python 3",
      "name": "python3"
    },
    "language_info": {
      "name": "python"
    }
  },
  "nbformat": 4,
  "nbformat_minor": 0
}